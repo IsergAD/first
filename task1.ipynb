{
  "nbformat": 4,
  "nbformat_minor": 0,
  "metadata": {
    "colab": {
      "name": "Untitled1.ipynb",
      "provenance": []
    },
    "kernelspec": {
      "name": "python3",
      "display_name": "Python 3"
    }
  },
  "cells": [
    {
      "cell_type": "code",
      "metadata": {
        "id": "lgflJ84ezQ4H",
        "colab_type": "code",
        "colab": {}
      },
      "source": [
        "class Test:\n",
        "    @staticmethod\n",
        "    def assert_equals(a, b, *args, **kwargs):\n",
        "        assert a == b\n",
        "        print('Passed')"
      ],
      "execution_count": 2,
      "outputs": []
    },
    {
      "cell_type": "markdown",
      "metadata": {
        "id": "c4DiDL4xzYv4",
        "colab_type": "text"
      },
      "source": [
        "https://edabit.com/challenge/KjCS7occ9hfu5snpb (1)"
      ]
    },
    {
      "cell_type": "code",
      "metadata": {
        "id": "7Z9gzkktzb-3",
        "colab_type": "code",
        "colab": {
          "base_uri": "https://localhost:8080/",
          "height": 102
        },
        "outputId": "7f0feca0-e359-4a9f-926a-c9e35cf91e18"
      },
      "source": [
        "def addition(num):\n",
        "\treturn num+1\n",
        "\n",
        "Test.assert_equals(addition(2), 3, \"2 plus 1 equals 3.\")\n",
        "Test.assert_equals(addition(-9), -8, \"-8 plus 1 equals 9.\")\n",
        "Test.assert_equals(addition(0), 1, \"0 plus 1 equals 1.\")\n",
        "Test.assert_equals(addition(999), 1000, \"999 plus 1 equals 1000.\")\n",
        "Test.assert_equals(addition(73), 74, \"73 plus 1 equals 74.\")"
      ],
      "execution_count": 3,
      "outputs": [
        {
          "output_type": "stream",
          "text": [
            "Passed\n",
            "Passed\n",
            "Passed\n",
            "Passed\n",
            "Passed\n"
          ],
          "name": "stdout"
        }
      ]
    },
    {
      "cell_type": "markdown",
      "metadata": {
        "id": "Iy3qjV6azxFn",
        "colab_type": "text"
      },
      "source": [
        "https://edabit.com/challenge/gt9LLufDCMHKMioh2 (2)"
      ]
    },
    {
      "cell_type": "code",
      "metadata": {
        "id": "lYYgAvXuzzhT",
        "colab_type": "code",
        "colab": {
          "base_uri": "https://localhost:8080/",
          "height": 187
        },
        "outputId": "ec996530-9a2f-449a-f0b4-0ff744aaab9b"
      },
      "source": [
        "def stutter(word):\n",
        "\tc='... '\n",
        "\ta=word[0:2]\n",
        "\treturn a+c+a+c+word+\"?\"\n",
        "\n",
        "words, sts = [\n",
        "\t\"increasing\",\n",
        "\t\"adventures\",\n",
        "\t\"enticing\",\n",
        "\t\"unacceptable\",\n",
        "\t\"accountable\",\n",
        "\t\"incredible\",\n",
        "\t\"exquisite\",\n",
        "\t\"am\",\n",
        "\t\"enduring\",\n",
        "\t\"outstanding\"\n",
        "], [\n",
        "\t\"in... in... increasing?\",\n",
        "\t\"ad... ad... adventures?\",\n",
        "\t\"en... en... enticing?\",\n",
        "\t\"un... un... unacceptable?\",\n",
        "\t\"ac... ac... accountable?\",\n",
        "\t\"in... in... incredible?\",\n",
        "\t\"ex... ex... exquisite?\",\n",
        "\t\"am... am... am?\",\n",
        "\t\"en... en... enduring?\",\n",
        "\t\"ou... ou... outstanding?\"\n",
        "]\n",
        "for i, w in enumerate(words):\n",
        "\tTest.assert_equals(stutter(w), sts[i])"
      ],
      "execution_count": 4,
      "outputs": [
        {
          "output_type": "stream",
          "text": [
            "Passed\n",
            "Passed\n",
            "Passed\n",
            "Passed\n",
            "Passed\n",
            "Passed\n",
            "Passed\n",
            "Passed\n",
            "Passed\n",
            "Passed\n"
          ],
          "name": "stdout"
        }
      ]
    },
    {
      "cell_type": "markdown",
      "metadata": {
        "id": "JX3tjFQuz6px",
        "colab_type": "text"
      },
      "source": [
        "https://edabit.com/challenge/HYjQKDXFfeppcWmLX (2)"
      ]
    },
    {
      "cell_type": "code",
      "metadata": {
        "id": "jauz77fzz8_2",
        "colab_type": "code",
        "colab": {
          "base_uri": "https://localhost:8080/",
          "height": 170
        },
        "outputId": "e85f6297-ba0c-434a-9498-76be26f19d6e"
      },
      "source": [
        "def is_curzon(num):\n",
        "\tif (1+2**num)%(1+2*num)==0 :\n",
        "\t    return True\n",
        "\treturn False\n",
        "\n",
        "Test.assert_equals(is_curzon(5), True)\n",
        "Test.assert_equals(is_curzon(10), False)\n",
        "Test.assert_equals(is_curzon(14), True)\n",
        "Test.assert_equals(is_curzon(86), True)\n",
        "Test.assert_equals(is_curzon(90), True)\n",
        "Test.assert_equals(is_curzon(115), False)\n",
        "Test.assert_equals(is_curzon(120), False)\n",
        "Test.assert_equals(is_curzon(194), True)\n",
        "Test.assert_equals(is_curzon(293), True)\n"
      ],
      "execution_count": 6,
      "outputs": [
        {
          "output_type": "stream",
          "text": [
            "Passed\n",
            "Passed\n",
            "Passed\n",
            "Passed\n",
            "Passed\n",
            "Passed\n",
            "Passed\n",
            "Passed\n",
            "Passed\n"
          ],
          "name": "stdout"
        }
      ]
    },
    {
      "cell_type": "markdown",
      "metadata": {
        "id": "eUzdHQhs0Fx8",
        "colab_type": "text"
      },
      "source": [
        "https://edabit.com/challenge/PNbsQzmDR3CJ9JHkB (3)"
      ]
    },
    {
      "cell_type": "code",
      "metadata": {
        "id": "c6RsXhJS0ISi",
        "colab_type": "code",
        "colab": {
          "base_uri": "https://localhost:8080/",
          "height": 136
        },
        "outputId": "e161ae49-5cc3-4aad-f24d-8c3a9a121137"
      },
      "source": [
        "def fact(n) :\n",
        "  a=2\n",
        "  b=1\n",
        "  if n==0 or n==1 :\n",
        "\t    return 1\n",
        "  while a<=n :\n",
        "\t    b*=a\n",
        "\t    a+=1\n",
        "  return b\n",
        "\n",
        "Test.assert_equals(fact(0), 1)\n",
        "Test.assert_equals(fact(1), 1)\n",
        "Test.assert_equals(fact(2), 2)\n",
        "Test.assert_equals(fact(3), 6)\n",
        "Test.assert_equals(fact(7), 5040)\n",
        "Test.assert_equals(fact(9), 362880)\n",
        "Test.assert_equals(fact(15), 1307674368000)"
      ],
      "execution_count": 7,
      "outputs": [
        {
          "output_type": "stream",
          "text": [
            "Passed\n",
            "Passed\n",
            "Passed\n",
            "Passed\n",
            "Passed\n",
            "Passed\n",
            "Passed\n"
          ],
          "name": "stdout"
        }
      ]
    },
    {
      "cell_type": "markdown",
      "metadata": {
        "id": "uH2QZlN_0MPY",
        "colab_type": "text"
      },
      "source": [
        "https://edabit.com/challenge/YfoKQWNeYETb9PYpw (3)"
      ]
    },
    {
      "cell_type": "code",
      "metadata": {
        "id": "NxMnCpz70Ol3",
        "colab_type": "code",
        "colab": {
          "base_uri": "https://localhost:8080/",
          "height": 187
        },
        "outputId": "d42ee7ec-f315-4c41-c992-82a40f7e9555"
      },
      "source": [
        "def profit(info):\n",
        "    if (info[\"sell_price\"]-info[\"cost_price\"])*info[\"inventory\"]-(info[\"sell_price\"]-info[\"cost_price\"])*info[\"inventory\"]//1 >= 0.5:\n",
        "\t\t    return int((info[\"sell_price\"]-info[\"cost_price\"])*info[\"inventory\"]//1+1)\n",
        "    return int((info[\"sell_price\"]-info[\"cost_price\"])*info[\"inventory\"]//1)\n",
        "\n",
        "Test.assert_equals(profit({'cost_price': 32.67, 'sell_price': 45.00, 'inventory': 1200}), 14796)\n",
        "Test.assert_equals(profit({'cost_price': 0.1, 'sell_price': 0.18, 'inventory': 259800}), 20784)\n",
        "Test.assert_equals(profit({'cost_price': 185.00, 'sell_price': 299.99, 'inventory': 300}), 34497)\n",
        "Test.assert_equals(profit({'cost_price': 378.11, 'sell_price': 990.00, 'inventory': 99}), 60577)\n",
        "Test.assert_equals(profit({'cost_price': 4.67, 'sell_price': 5.00, 'inventory': 78000}), 25740)\n",
        "Test.assert_equals(profit({'cost_price': 19.87, 'sell_price': 110.00, 'inventory': 350}), 31546)\n",
        "Test.assert_equals(profit({'cost_price': 2.91, 'sell_price': 4.50, 'inventory': 6000}), 9540)\n",
        "Test.assert_equals(profit({'cost_price': 68.01, 'sell_price': 149.99, 'inventory': 500}), 40990)\n",
        "Test.assert_equals(profit({'cost_price': 1.45, 'sell_price': 8.50, 'inventory': 10000}), 70500)\n",
        "Test.assert_equals(profit({'cost_price': 10780, 'sell_price': 34999, 'inventory': 10}), 242190)"
      ],
      "execution_count": 8,
      "outputs": [
        {
          "output_type": "stream",
          "text": [
            "Passed\n",
            "Passed\n",
            "Passed\n",
            "Passed\n",
            "Passed\n",
            "Passed\n",
            "Passed\n",
            "Passed\n",
            "Passed\n",
            "Passed\n"
          ],
          "name": "stdout"
        }
      ]
    },
    {
      "cell_type": "markdown",
      "metadata": {
        "id": "WiYdN1dw0UD-",
        "colab_type": "text"
      },
      "source": [
        "https://edabit.com/challenge/JzBLDzrcGCzDjkk5n (4)"
      ]
    },
    {
      "cell_type": "code",
      "metadata": {
        "id": "n8N7NNvN0U3V",
        "colab_type": "code",
        "colab": {
          "base_uri": "https://localhost:8080/",
          "height": 102
        },
        "outputId": "3fcf5979-4827-457a-c12e-a798ef5fbe61"
      },
      "source": [
        "def encrypt(word):\n",
        "    i=1\n",
        "    w=word\n",
        "    for j in range(len(word)) :\n",
        "        w = w[:(i-1)] + word[-i] + w[i:]\n",
        "        i+=1\n",
        "    i=0\n",
        "    for i in range(len(word)) :\n",
        "        if w[i]==\"a\" :\n",
        "            w = w[:i] + \"0\" + w[i+1:]\n",
        "        if w[i]==\"e\" :\n",
        "            w = w[:i] + \"1\" + w[i+1:]\n",
        "        if w[i]==\"i\" :\n",
        "            w = w[:i] + \"2\" + w[i+1:]\n",
        "        if w[i]==\"o\" :\n",
        "            w = w[:i] + \"2\" + w[i+1:]\n",
        "        if w[i]==\"u\" :\n",
        "           w = w[:i] + \"3\" + w[i+1:]\n",
        "        i+=1\n",
        "    s='aca'\n",
        "    return w+s\n",
        "\n",
        "Test.assert_equals(encrypt(\"karaca\"), \"0c0r0kaca\")\n",
        "Test.assert_equals(encrypt(\"burak\"), \"k0r3baca\")\n",
        "Test.assert_equals(encrypt(\"banana\"), \"0n0n0baca\")\n",
        "Test.assert_equals(encrypt(\"alpaca\"), \"0c0pl0aca\")\n",
        "Test.assert_equals(encrypt(\"hello\"), \"2ll1haca\")"
      ],
      "execution_count": 11,
      "outputs": [
        {
          "output_type": "stream",
          "text": [
            "Passed\n",
            "Passed\n",
            "Passed\n",
            "Passed\n",
            "Passed\n"
          ],
          "name": "stdout"
        }
      ]
    }
  ]
}